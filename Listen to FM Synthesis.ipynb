{
 "cells": [
  {
   "cell_type": "markdown",
   "metadata": {},
   "source": [
    "# Listen to FM Synthesis\n",
    "\n",
    "*Marina Bosi & Rich Goldberg*<br>\n",
    "*Center for Computer Research in Music and Acoustics (CCRMA)* \n",
    "\n",
    "In FM Synthesis, two sinusoids are combined such that one of them modulates the instantaneous frequency of the other one.  If the modulating sinusoid is $\\sin(2 \\pi f_m  t)$ (where its frequency is  $f_m$) then the output signal x(t) is\n",
    "$$x(t) = \\sin\\left( 2 \\pi f_c t + m \\ \\sin(2 \\pi f_m  t)\\right)$$\n",
    "where $f_c$ is the frequency of the sinusoid being modulated and $m$ is the modulation index describing the degree of modulation. \n",
    "\n",
    "The mathematics of frequency modulation tell us the the resulting frequency spectrum will be a line at the frequency $f_c$ and other lines spaced integer multiples of $f_m$ away from $f_c$ where the amplitude of the line $n$ multiples away from $f_c$ will equal $J_n(m)$ where the function $J_n(x)$ is a \"Bessel Function of the First Kind\".  Hence, the combination of these two sinusoids will create a spectrum with mutliple lines it.  \n",
    "\n",
    "Further, in cases where $m$ is large enough so that audible lines pass into negative frequencies, they are perceived as having positive frequency and so frequency lines that are no longer multiples of $f_m$ away from $f_c$ appear in the spectrum, allowing for very complex sounds.  (For example, if $f_c$ were $1 kHz$ and $f_m$ were $300 Hz$ then, in addition to the possibility of lines at \\{$100Hz, 400Hz, 700Hz, 1kHz, 1.3kHz, ...\\}, the negative frequencies could mix in lines at \\{200Hz, 500Hz, 800Hz, 1.1 kHz, ...\\}.  Hence, FM Synthesis allows for the creation of very complex sounds from only two oscillators.\n",
    "\n",
    "The widgets below allow you to set the key FM Synthesis parameters $f_c, f_m, m$ and then both listen to the result and see its frequency spectrum.  "
   ]
  },
  {
   "cell_type": "code",
   "execution_count": 1,
   "metadata": {},
   "outputs": [],
   "source": [
    "#HIDDEN\n",
    "# Setup\n",
    "import numpy as np\n",
    "import matplotlib.pyplot as plt\n",
    "from IPython.display import Audio, display\n",
    "from ipywidgets import interactive, fixed  \n",
    "# ipwidgets makes it easy to make Jupyter notebooks interactive\n",
    "#  * interactive() for making function inputs interactive\n",
    "#  * fixed() allows params to be fixed\n"
   ]
  },
  {
   "cell_type": "code",
   "execution_count": 2,
   "metadata": {},
   "outputs": [],
   "source": [
    "#HIDDEN\n",
    "# Plot the Fourier transform of (mono) signal sampled at sample_rate\n",
    "def PlotFFT(signal, sample_rate, Nfft = 2048, start = 1024, log_scale = True):\n",
    "    \"\"\" Plot the Fourier transform of (mono) `signal` that is sampled \n",
    "    at `sample_rate`.  Uses an `Nfft` point DFT for data starting at  \n",
    "    sample number `start`.  (Does not return anything, just makes the plot.)\n",
    "    \"\"\"\n",
    "    w = np.hanning(Nfft)\n",
    "    x_fft = np.fft.fft(w * signal[start: start + Nfft])[:Nfft//2]\n",
    "    f_fft = np.arange(Nfft//2) * sample_rate/Nfft\n",
    "    if log_scale:\n",
    "        plt.xlim(100, 20_000)\n",
    "        plt.semilogx(f_fft, 10.*np.log10( np.abs( x_fft )**2 *4 * 8/3 /Nfft**2))\n",
    "    else:\n",
    "        plt.xlim(0, 20_000)\n",
    "        plt.plot(f_fft, 10.*np.log10( np.abs( x_fft )**2 *4 * 8/3 /Nfft**2))\n",
    "    plt.ylim(-80,10)\n",
    "    plt.xlabel(\"Frequency in Hz\")\n",
    "    plt.ylabel(\"dB\")\n",
    "    plt.title(\"DFT of Signal\")\n",
    "    plt.gca().get_xaxis().set_major_formatter(plt.FuncFormatter(lambda x, loc: \"{:,}\".format(int(x))))\n",
    "    plt.show()"
   ]
  },
  {
   "cell_type": "code",
   "execution_count": null,
   "metadata": {},
   "outputs": [],
   "source": [
    "#HIDDEN\n",
    "# Carry out FM synthesis and show the result \n",
    "def fm_synth(fc = 2_000, fm = 1_500, m = 5., max_time = 3., rate = 44_100, log_scale = True):\n",
    "    \"\"\"Creates an FM modulated signal where the carrier has frequency `fc`,\n",
    "    the modulating signal has frequency `fm`, and the modulation index is `m`.\n",
    "    It then plays `max_time` seconds of the signal sampled with sample rate\n",
    "    `rate` and displays if DFT (computed using `PlotFFT()` defined above.)\n",
    "    \"\"\"\n",
    "    times = np.linspace(0,max_time,rate*max_time+1)\n",
    "    signal = np.sin(2*np.pi*fc*times + m * np.sin(2*np.pi*fm*times))\n",
    "    display(Audio(data=signal, rate=rate, autoplay = True))\n",
    "    PlotFFT(signal, rate, log_scale=log_scale)\n",
    "    return signal"
   ]
  },
  {
   "cell_type": "code",
   "execution_count": 3,
   "metadata": {},
   "outputs": [
    {
     "data": {
      "application/vnd.jupyter.widget-view+json": {
       "model_id": "8770f02e72d44cd085cdd46ae12195f5",
       "version_major": 2,
       "version_minor": 0
      },
      "text/plain": [
       "interactive(children=(IntSlider(value=2000, description='fc', max=5000, min=500), IntSlider(value=1500, descri…"
      ]
     },
     "metadata": {},
     "output_type": "display_data"
    }
   ],
   "source": [
    "#HIDDEN\n",
    "# interactively run the function `fm_synth()`\n",
    "w = interactive( fm_synth\n",
    "               , fc=(500, 5_000)\n",
    "               , fm=(500, 5_000)\n",
    "               , m = (0., 30.)\n",
    "               , max_time = fixed(3)\n",
    "               , rate = fixed(44_100)\n",
    "               , log_scale = True\n",
    "               )\n",
    "display(w)"
   ]
  }
 ],
 "metadata": {
  "kernelspec": {
   "display_name": "Python 3",
   "language": "python",
   "name": "python3"
  },
  "language_info": {
   "codemirror_mode": {
    "name": "ipython",
    "version": 3
   },
   "file_extension": ".py",
   "mimetype": "text/x-python",
   "name": "python",
   "nbconvert_exporter": "python",
   "pygments_lexer": "ipython3",
   "version": "3.7.5"
  }
 },
 "nbformat": 4,
 "nbformat_minor": 2
}
