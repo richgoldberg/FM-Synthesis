{
 "cells": [
  {
   "cell_type": "code",
   "execution_count": 1,
   "metadata": {},
   "outputs": [],
   "source": [
    "# Setup\n",
    "import numpy as np\n",
    "import matplotlib.pyplot as plt\n",
    "from IPython.display import Audio, display\n",
    "from ipywidgets import interactive, fixed  \n",
    "# ipwidgets makes it easy to make Jupyter notebooks interactive\n",
    "#  * interactive() for making function inputs interactive\n",
    "#  * fixed() allows params to be fixed\n"
   ]
  },
  {
   "cell_type": "code",
   "execution_count": 2,
   "metadata": {},
   "outputs": [],
   "source": [
    "# Plot the Fourier transform of (mono) signal sampled at sample_rate\n",
    "def PlotFFT(signal, sample_rate, Nfft = 2048, start = 1024, log_scale = True):\n",
    "    \"\"\" Plot the Fourier transform of (mono) `signal` that is sampled \n",
    "    at `sample_rate`.  Uses an `Nfft` point DFT for data starting at  \n",
    "    sample number `start`.  (Does not return anything, just makes the plot.)\n",
    "    \"\"\"\n",
    "    w = np.hanning(Nfft)\n",
    "    x_fft = np.fft.fft(w * signal[start: start + Nfft])[:Nfft//2]\n",
    "    f_fft = np.arange(Nfft//2) * sample_rate/Nfft\n",
    "    if log_scale:\n",
    "        plt.xlim(100, 20_000)\n",
    "        plt.semilogx(f_fft, 10.*np.log10( np.abs( x_fft )**2 *4 * 8/3 /Nfft**2))\n",
    "    else:\n",
    "        plt.xlim(0, 20_000)\n",
    "        plt.plot(f_fft, 10.*np.log10( np.abs( x_fft )**2 *4 * 8/3 /Nfft**2))\n",
    "    plt.ylim(-80,10)\n",
    "    plt.xlabel(\"Frequency in Hz\")\n",
    "    plt.ylabel(\"dB\")\n",
    "    plt.title(\"DFT of Signal\")\n",
    "    plt.gca().get_xaxis().set_major_formatter(plt.FuncFormatter(lambda x, loc: \"{:,}\".format(int(x))))\n",
    "    plt.show()"
   ]
  },
  {
   "cell_type": "code",
   "execution_count": 3,
   "metadata": {},
   "outputs": [
    {
     "data": {
      "application/vnd.jupyter.widget-view+json": {
       "model_id": "8770f02e72d44cd085cdd46ae12195f5",
       "version_major": 2,
       "version_minor": 0
      },
      "text/plain": [
       "interactive(children=(IntSlider(value=2000, description='fc', max=5000, min=500), IntSlider(value=1500, descri…"
      ]
     },
     "metadata": {},
     "output_type": "display_data"
    }
   ],
   "source": [
    "# Carry out FM synthesis and show the result \n",
    "def fm_synth(fc = 2_000, fm = 1_500, m = 5., max_time = 3., rate = 44_100, log_scale = True):\n",
    "    \"\"\"Creates an FM modulated signal where the carrier has frequency `fc`,\n",
    "    the modulating signal has frequency `fm`, and the modulation index is `m`.\n",
    "    It then plays `max_time` seconds of the signal sampled with sample rate\n",
    "    `rate` and displays if DFT (computed using `PlotFFT()` defined above.)\n",
    "    \"\"\"\n",
    "    times = np.linspace(0,max_time,rate*max_time+1)\n",
    "    signal = np.sin(2*np.pi*fc*times + m * np.sin(2*np.pi*fm*times))\n",
    "    display(Audio(data=signal, rate=rate, autoplay = True))\n",
    "    PlotFFT(signal, rate, log_scale=log_scale)\n",
    "    return signal\n",
    "\n",
    "# interactively run the function `fm_synth()`\n",
    "w = interactive( fm_synth\n",
    "               , fc=(500, 5_000)\n",
    "               , fm=(500, 5_000)\n",
    "               , m = (0., 30.)\n",
    "               , max_time = fixed(3)\n",
    "               , rate = fixed(44_100)\n",
    "               , log_scale = True\n",
    "               )\n",
    "display(w)"
   ]
  }
 ],
 "metadata": {
  "kernelspec": {
   "display_name": "Python 3",
   "language": "python",
   "name": "python3"
  },
  "language_info": {
   "codemirror_mode": {
    "name": "ipython",
    "version": 3
   },
   "file_extension": ".py",
   "mimetype": "text/x-python",
   "name": "python",
   "nbconvert_exporter": "python",
   "pygments_lexer": "ipython3",
   "version": "3.7.5"
  }
 },
 "nbformat": 4,
 "nbformat_minor": 2
}
